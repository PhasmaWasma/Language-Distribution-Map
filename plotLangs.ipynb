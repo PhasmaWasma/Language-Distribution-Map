{
 "cells": [
  {
   "cell_type": "code",
   "execution_count": 2,
   "metadata": {},
   "outputs": [],
   "source": [
    "#!pip install pycountry\n",
    "#!pip install plotly==5.18.0"
   ]
  },
  {
   "cell_type": "code",
   "execution_count": 3,
   "metadata": {},
   "outputs": [],
   "source": [
    "import json\n",
    "import pandas as pd\n",
    "import pycountry as pc\n",
    "import plotly.express as px"
   ]
  },
  {
   "cell_type": "code",
   "execution_count": 4,
   "metadata": {},
   "outputs": [],
   "source": [
    "def cleanCountryName(country: str) -> str:\n",
    "    '''\n",
    "    Cleans up the scraped name with proper capitalization\n",
    "    Parameters:\n",
    "        country: current name of the country\n",
    "    Returns:\n",
    "        the country name properly capitalized and formatted\n",
    "    '''\n",
    "    country = country.replace(\"_\", \" \")\n",
    "    country = country.split()\n",
    "\n",
    "    new_name = []\n",
    "    for i in country:\n",
    "        if i == \"of\" or i == \"the\" or i == \"and\":\n",
    "            new_name.append(i)\n",
    "        else:\n",
    "            new_name.append(i.capitalize())\n",
    "\n",
    "    if new_name[-1] == \"the\":\n",
    "        new_name = new_name[0:-1]\n",
    "\n",
    "    return \" \".join(new_name)\n",
    "\n",
    "def sortByCountry(lang_data: \"dict[list[dict]]\", countries: \"list[str] | str\" = \"all\") -> \"list[dict]\":\n",
    "    '''\n",
    "    Sorts the scraped JSON data of the countries given.\n",
    "    If no countries are given, it returns the sorted data for\n",
    "    all countries\n",
    "    Parameters:\n",
    "        lang_data: the webscraped language data dictionary\n",
    "        countries: list of strings of country names\n",
    "    Returns:\n",
    "        list of the language data for the given countries\n",
    "    '''\n",
    "    if isinstance(countries, str) and countries != \"all\":\n",
    "        countries = [countries]\n",
    "\n",
    "    all_countries = []\n",
    "    if countries == \"all\":\n",
    "        for country in lang_data.keys():\n",
    "            cleaned_name = cleanCountryName(country)\n",
    "            country_dict = {\"country\": cleaned_name, \"langs\": lang_data[country]}\n",
    "            all_countries.append(country_dict)\n",
    "\n",
    "    else:  \n",
    "        for country in lang_data.keys():\n",
    "            cleaned_name = cleanCountryName(country)\n",
    "            if cleaned_name in countries:\n",
    "                country_dict = {\"country\": cleaned_name, \"langs\": lang_data[country]}\n",
    "                all_countries.append(country_dict)\n",
    "    \n",
    "    return all_countries\n",
    "\n",
    "def sortByLang(lang_data: \"dict[list[dict]]\", language: str) -> \"list[dict]\":\n",
    "    '''\n",
    "    Finds all of the countries with the given language and \n",
    "    returns a list of them, with their associated percentages\n",
    "    Parameters:\n",
    "        lang_data: the webscraped language data dictionary\n",
    "        language:  string of the language to find data for\n",
    "    Returns:\n",
    "        list of dicts of countries with the given langauge data\n",
    "    Raises:\n",
    "        Error if there are no countries with the given language\n",
    "    '''\n",
    "    countries = []\n",
    "    for country in lang_data.keys():\n",
    "        for lang in lang_data[country]:\n",
    "            name = lang[\"name\"]\n",
    "           \n",
    "            if language in name:\n",
    "                country = cleanCountryName(country)\n",
    "                lang[\"country\"] = country\n",
    "                countries.append(lang)\n",
    "\n",
    "    if len(countries) == 0:\n",
    "        raise ValueError(\"No countries have speakers of that language\")\n",
    "\n",
    "    return countries"
   ]
  },
  {
   "cell_type": "code",
   "execution_count": 27,
   "metadata": {},
   "outputs": [],
   "source": [
    "def countryToCode(country_data: \"list[dict]\") -> \"list[dict]\":\n",
    "    ''' \n",
    "    Uses the pycountry module to convert the country names \n",
    "    into their ISO 3166-1 alpha-3 codes for plotting\n",
    "    Parameters:\n",
    "        country_data: the list of country dictionaries\n",
    "    Returns:\n",
    "        a list where the dicts have an \"iso\" key pair\n",
    "    '''\n",
    "    new_data = []\n",
    "\n",
    "    for i in range(len(country_data)):\n",
    "        country = country_data[i]\n",
    "        name    = country[\"country\"]\n",
    "        \n",
    "        try:\n",
    "            new_name = pc.countries.search_fuzzy(name)[0]\n",
    "            new_name = new_name.alpha_3\n",
    "            country[\"iso\"] = new_name\n",
    "\n",
    "            new_data.append(country)\n",
    "            \n",
    "        except:\n",
    "            pass\n",
    "\n",
    "    return new_data\n",
    "\n",
    "def langChloropleth(language: str, lang_data: \"list[dict]\") -> None:\n",
    "    ''' \n",
    "    Plots the chloropleth map of the given language\n",
    "    Parameters:\n",
    "        language:  string of the language name\n",
    "        lang_data: the opened JSON file with the language data\n",
    "    Returns:\n",
    "        None, displays thr chloropleth map\n",
    "    '''\n",
    "    language = language.capitalize()\n",
    "\n",
    "    country_data = sortByLang(lang_data, language)\n",
    "    country_data = countryToCode(country_data)\n",
    "\n",
    "    country_frame = pd.DataFrame.from_records(country_data, index = \"name\")\n",
    "    country_frame[\"percent\"] = country_frame[\"percent\"].fillna(0)\n",
    "    country_frame[\"percent\"] = country_frame[\"percent\"].replace(\"\", 0)\n",
    "    country_frame.rename(columns={\"percent\": \"Speaker %\"}, inplace=True)\n",
    "\n",
    "    country_frame.loc[country_frame[\"Speaker %\"] > 100, \"Speaker %\"] = 0\n",
    "    \n",
    "\n",
    "    fig = px.choropleth(country_frame, locations=\"iso\",\n",
    "                    color=\"Speaker %\", \n",
    "                    hover_name=\"country\", \n",
    "                    hover_data=\"note\",\n",
    "                    title=f\"Countries with {language} speakers\",\n",
    "                    color_continuous_scale=px.colors.sequential.Plasma,\n",
    "                    width=1000,\n",
    "                    height=700)\n",
    "\n",
    "\n",
    "    fig.add_annotation(x=0.55, y=0, text=\"0 means no percentage is available, but the language is spoken there\", showarrow=False, font=dict(color=\"black\", size=10))\n",
    "\n",
    "    fig.show()"
   ]
  },
  {
   "cell_type": "code",
   "execution_count": 28,
   "metadata": {},
   "outputs": [],
   "source": [
    "def main() -> None:\n",
    "    with open(\"language_data.json\", \"r\") as read_file:\n",
    "        lang_data = json.load(read_file)\n",
    "\n",
    "    langChloropleth(\"english\", lang_data)"
   ]
  },
  {
   "cell_type": "code",
   "execution_count": 29,
   "metadata": {},
   "outputs": [
    {
     "name": "stdout",
     "output_type": "stream",
     "text": [
      "SubdivisionHierarchy(code='US-AS', country_code='US', name='American Samoa', parent_code=None, type='Outlying area')\n",
      "SubdivisionHierarchy(code='NL-AW', country_code='NL', name='Aruba', parent_code=None, type='Country')\n",
      "SubdivisionHierarchy(code='BZ-BZ', country_code='BZ', name='Belize', parent_code=None, type='District')\n",
      "SubdivisionHierarchy(code='NL-CW', country_code='NL', name='Curaçao', parent_code=None, type='Country')\n",
      "SubdivisionHierarchy(code='US-GU', country_code='US', name='Guam', parent_code=None, type='Outlying area')\n",
      "SubdivisionHierarchy(code='BE-WLX', country_code='BE', name='Luxembourg', parent='WAL', parent_code='BE-WAL', type='Province')\n",
      "SubdivisionHierarchy(code='LU-LU', country_code='LU', name='Luxembourg', parent_code=None, type='Canton')\n",
      "SubdivisionHierarchy(code='US-MP', country_code='US', name='Northern Mariana Islands', parent_code=None, type='Outlying area')\n",
      "SubdivisionHierarchy(code='PA-8', country_code='PA', name='Panamá', parent_code=None, type='Province')\n",
      "SubdivisionHierarchy(code='PA-8', country_code='PA', name='Panamá', parent_code=None, type='Province')\n",
      "SubdivisionHierarchy(code='US-PR', country_code='US', name='Puerto Rico', parent_code=None, type='Outlying area')\n",
      "SubdivisionHierarchy(code='NL-SX', country_code='NL', name='Sint Maarten', parent_code=None, type='Country')\n"
     ]
    },
    {
     "data": {
      "application/vnd.plotly.v1+json": {
       "config": {
        "plotlyServerURL": "https://plot.ly"
       },
       "data": [
        {
         "coloraxis": "coloraxis",
         "customdata": [
          [
           null
          ],
          [
           null
          ],
          [
           "official"
          ],
          [
           "official"
          ],
          [
           null
          ],
          [
           "widely spoken"
          ],
          [
           null
          ],
          [
           "official"
          ],
          [
           null
          ],
          [
           "official"
          ],
          [
           "official"
          ],
          [
           "official"
          ],
          [
           "official"
          ],
          [
           "official"
          ],
          [
           null
          ],
          [
           "official; official; official"
          ],
          [
           null
          ],
          [
           "official"
          ],
          [
           "official"
          ],
          [
           "official"
          ],
          [
           null
          ],
          [
           "official"
          ],
          [
           "official"
          ],
          [
           null
          ],
          [
           "official"
          ],
          [
           null
          ],
          [
           "official"
          ],
          [
           null
          ],
          [
           "official"
          ],
          [
           "official, used for government business"
          ],
          [
           "major foreign language taught in schools"
          ],
          [
           "official"
          ],
          [
           "official"
          ],
          [
           "used in schools and for official purposes"
          ],
          [
           null
          ],
          [
           "official"
          ],
          [
           null
          ],
          [
           null
          ],
          [
           "official"
          ],
          [
           "official"
          ],
          [
           null
          ],
          [
           null
          ],
          [
           null
          ],
          [
           "official, the language generally used"
          ],
          [
           null
          ],
          [
           "most commonly used foreign language"
          ],
          [
           null
          ],
          [
           null
          ],
          [
           "official"
          ],
          [
           "widely understood among upper and middle classes"
          ],
          [
           "official"
          ],
          [
           "official"
          ],
          [
           null
          ],
          [
           null
          ],
          [
           null
          ],
          [
           "official"
          ],
          [
           "official"
          ],
          [
           "all widely understood in the major cities; Nafusi, Ghadamis, Suknah, Awjilah, Tamasheq"
          ],
          [
           null
          ],
          [
           null
          ],
          [
           "official"
          ],
          [
           null
          ],
          [
           "spoken by most government officials"
          ],
          [
           "official"
          ],
          [
           null
          ],
          [
           null
          ],
          [
           "official"
          ],
          [
           "widely understood, spoken, and used for most government and commercial purposes"
          ],
          [
           "de facto official"
          ],
          [
           "official"
          ],
          [
           null
          ],
          [
           "official"
          ],
          [
           "official"
          ],
          [
           "official"
          ],
          [
           null
          ],
          [
           "official; lingua franca of Pakistani elite and most government ministries"
          ],
          [
           "official"
          ],
          [
           "similar to Jamaican English Creole; a mixture of English and Spanish with elements of Ngabere; also known as Guari Guari and Colon Creole"
          ],
          [
           null
          ],
          [
           "official"
          ],
          [
           null
          ],
          [
           null
          ],
          [
           "official"
          ],
          [
           null
          ],
          [
           "official"
          ],
          [
           "official"
          ],
          [
           null
          ],
          [
           null
          ],
          [
           null
          ],
          [
           null
          ],
          [
           "official"
          ],
          [
           null
          ],
          [
           "official"
          ],
          [
           "official, regular use limited to literate minority"
          ],
          [
           "official"
          ],
          [
           "official"
          ],
          [
           null
          ],
          [
           null
          ],
          [
           "official"
          ],
          [
           "official"
          ],
          [
           null
          ],
          [
           "official"
          ],
          [
           "widely spoken"
          ],
          [
           null
          ],
          [
           null
          ],
          [
           "official, primary language of commerce, administration, and higher education"
          ],
          [
           null
          ],
          [
           null
          ],
          [
           null
          ],
          [
           "official"
          ],
          [
           "official"
          ],
          [
           null
          ],
          [
           null
          ],
          [
           "official"
          ],
          [
           "official"
          ],
          [
           "official language, taught in schools, used in courts of law and by most newspapers and some radio broadcasts"
          ],
          [
           null
          ],
          [
           null
          ],
          [
           null
          ],
          [
           "official"
          ],
          [
           "increasingly favored as a second language"
          ],
          [
           null
          ],
          [
           "official"
          ],
          [
           "official; traditionally used for official business"
          ]
         ],
         "geo": "geo",
         "hovertemplate": "<b>%{hovertext}</b><br><br>iso=%{location}<br>note=%{customdata[0]}<br>Speaker %=%{z}<extra></extra>",
         "hovertext": [
          "Afghanistan",
          "American Samoa",
          "Anguilla",
          "Antigua and Barbuda",
          "Argentina",
          "Aruba",
          "Australia",
          "Bahamas",
          "Bahrain",
          "Barbados",
          "Belize",
          "Bermuda",
          "Botswana",
          "British Virgin Islands",
          "Brunei",
          "Burundi",
          "Burundi",
          "Cameroon",
          "Canada",
          "Cayman Islands",
          "Chile",
          "Christmas Island",
          "Cook Islands",
          "Costa Rica",
          "Curacao",
          "Cyprus",
          "Dominica",
          "Egypt",
          "Eritrea",
          "Eswatini",
          "Ethiopia",
          "Fiji",
          "Gambia",
          "Gibraltar",
          "Greenland",
          "Grenada",
          "Guam",
          "Guernsey",
          "Guyana",
          "Hong Kong",
          "Hungary",
          "Iceland",
          "Indonesia",
          "Ireland",
          "Isle of Man",
          "Israel",
          "Jamaica",
          "Jamaica",
          "Jersey",
          "Jordan",
          "Kenya",
          "Kiribati",
          "Kuwait",
          "Laos",
          "Lebanon",
          "Lesotho",
          "Liberia",
          "Libya",
          "Luxembourg",
          "Madagascar",
          "Malawi",
          "Malaysia",
          "Maldives",
          "Malta",
          "Monaco",
          "Montserrat",
          "Namibia",
          "Nauru",
          "New Zealand",
          "Nigeria",
          "Niue",
          "Niue",
          "Norfolk Island",
          "Northern Mariana Islands",
          "Oman",
          "Pakistan",
          "Palau",
          "Panama",
          "Panama",
          "Papua New Guinea",
          "Puerto Rico",
          "Qatar",
          "Rwanda",
          "Saint Barthelemy",
          "Saint Kitts and Nevis",
          "Saint Lucia",
          "Saint Martin",
          "Saint Vincent and the Grenadines",
          "Saint Vincent and the Grenadines",
          "Samoa",
          "Samoa",
          "Sao Tome and Principe",
          "Seychelles",
          "Sierra Leone",
          "Singapore",
          "Sint Maarten",
          "Solomon Islands",
          "Somalia",
          "South Africa",
          "South Sudan",
          "Sri Lanka",
          "Sudan",
          "Suriname",
          "Switzerland",
          "Syria",
          "Tanzania",
          "Tokelau",
          "Tonga",
          "Tonga",
          "Tonga",
          "Trinidad and Tobago",
          "Trinidad and Tobago",
          "Trinidad and Tobago",
          "Turks and Caicos Islands",
          "Tuvalu",
          "Uganda",
          "United Arab Emirates",
          "United Kingdom",
          "United States",
          "Vanuatu",
          "Vietnam",
          "Virgin Islands",
          "Zambia",
          "Zimbabwe"
         ],
         "locations": [
          "AFG",
          "ASM",
          "AIA",
          "ATG",
          "ARG",
          "ABW",
          "AUS",
          "BHS",
          "BHR",
          "BRB",
          "BLZ",
          "BMU",
          "BWA",
          "VGB",
          "BRN",
          "BDI",
          "BDI",
          "CMR",
          "CAN",
          "CYM",
          "CHL",
          "CXR",
          "COK",
          "CRI",
          "NLD",
          "CYP",
          "DMA",
          "EGY",
          "ERI",
          "SWZ",
          "ETH",
          "FJI",
          "GMB",
          "GIB",
          "GRL",
          "GRD",
          "GUM",
          "GGY",
          "GUY",
          "HKG",
          "HUN",
          "ISL",
          "IDN",
          "IRL",
          "IMN",
          "ISR",
          "JAM",
          "JAM",
          "JEY",
          "JOR",
          "KEN",
          "KIR",
          "KWT",
          "LAO",
          "LBN",
          "LSO",
          "LBR",
          "LBY",
          "LUX",
          "MDG",
          "MWI",
          "MYS",
          "MDV",
          "MLT",
          "MCO",
          "MSR",
          "NAM",
          "NRU",
          "NZL",
          "NGA",
          "NIU",
          "NIU",
          "NFK",
          "MNP",
          "OMN",
          "PAK",
          "PLW",
          "PAN",
          "PAN",
          "PNG",
          "PRI",
          "QAT",
          "RWA",
          "BLM",
          "KNA",
          "LCA",
          "MAF",
          "VCT",
          "VCT",
          "WSM",
          "WSM",
          "STP",
          "SYC",
          "SLE",
          "SGP",
          "NLD",
          "SLB",
          "SOM",
          "ZAF",
          "SSD",
          "LKA",
          "SDN",
          "SUR",
          "CHE",
          "SYR",
          "TZA",
          "TKL",
          "TON",
          "TON",
          "TON",
          "TTO",
          "TTO",
          "TTO",
          "TCA",
          "TUV",
          "UGA",
          "ARE",
          "GBR",
          "USA",
          "VUT",
          "VNM",
          "VGB",
          "ZMB",
          "ZWE"
         ],
         "name": "",
         "type": "choropleth",
         "z": [
          6,
          3.9,
          0,
          0,
          0,
          7.1,
          72.7,
          0,
          0,
          0,
          62.9,
          0,
          2.8,
          0,
          0,
          0,
          2.4,
          0,
          58.7,
          90.9,
          10.2,
          27.6,
          86.4,
          0,
          3.1,
          4.1,
          0,
          0,
          0,
          0,
          0,
          0,
          0,
          0,
          0,
          0,
          43.6,
          0,
          0,
          4.3,
          16,
          0,
          0,
          0,
          0,
          0,
          0,
          0,
          94.5,
          0,
          0,
          0,
          0,
          0,
          0,
          0,
          20,
          0,
          2.1,
          0,
          0,
          0,
          0,
          6,
          0,
          0,
          2.3,
          2,
          95.4,
          0,
          32,
          11,
          44.9,
          17,
          0,
          0,
          19.1,
          0,
          0,
          0,
          0,
          0,
          0,
          0,
          0,
          0,
          0,
          0,
          0,
          6.7,
          0.5,
          4.9,
          5.1,
          0,
          36.9,
          67.5,
          0,
          0,
          8.4,
          0,
          23.8,
          0,
          0,
          5.4,
          0,
          0,
          48.6,
          76.8,
          0,
          0.7,
          0,
          0,
          0,
          0,
          0,
          0,
          0,
          0,
          78.2,
          2,
          0,
          71.6,
          1.7,
          0
         ]
        }
       ],
       "layout": {
        "annotations": [
         {
          "font": {
           "color": "black",
           "size": 10
          },
          "showarrow": false,
          "text": "0 means no percentage is available, but the language is spoken there",
          "x": 0.55,
          "y": 0
         }
        ],
        "coloraxis": {
         "colorbar": {
          "title": {
           "text": "Speaker %"
          }
         },
         "colorscale": [
          [
           0,
           "#0d0887"
          ],
          [
           0.1111111111111111,
           "#46039f"
          ],
          [
           0.2222222222222222,
           "#7201a8"
          ],
          [
           0.3333333333333333,
           "#9c179e"
          ],
          [
           0.4444444444444444,
           "#bd3786"
          ],
          [
           0.5555555555555556,
           "#d8576b"
          ],
          [
           0.6666666666666666,
           "#ed7953"
          ],
          [
           0.7777777777777778,
           "#fb9f3a"
          ],
          [
           0.8888888888888888,
           "#fdca26"
          ],
          [
           1,
           "#f0f921"
          ]
         ]
        },
        "geo": {
         "center": {},
         "domain": {
          "x": [
           0,
           1
          ],
          "y": [
           0,
           1
          ]
         }
        },
        "height": 700,
        "legend": {
         "tracegroupgap": 0
        },
        "template": {
         "data": {
          "bar": [
           {
            "error_x": {
             "color": "#2a3f5f"
            },
            "error_y": {
             "color": "#2a3f5f"
            },
            "marker": {
             "line": {
              "color": "#E5ECF6",
              "width": 0.5
             },
             "pattern": {
              "fillmode": "overlay",
              "size": 10,
              "solidity": 0.2
             }
            },
            "type": "bar"
           }
          ],
          "barpolar": [
           {
            "marker": {
             "line": {
              "color": "#E5ECF6",
              "width": 0.5
             },
             "pattern": {
              "fillmode": "overlay",
              "size": 10,
              "solidity": 0.2
             }
            },
            "type": "barpolar"
           }
          ],
          "carpet": [
           {
            "aaxis": {
             "endlinecolor": "#2a3f5f",
             "gridcolor": "white",
             "linecolor": "white",
             "minorgridcolor": "white",
             "startlinecolor": "#2a3f5f"
            },
            "baxis": {
             "endlinecolor": "#2a3f5f",
             "gridcolor": "white",
             "linecolor": "white",
             "minorgridcolor": "white",
             "startlinecolor": "#2a3f5f"
            },
            "type": "carpet"
           }
          ],
          "choropleth": [
           {
            "colorbar": {
             "outlinewidth": 0,
             "ticks": ""
            },
            "type": "choropleth"
           }
          ],
          "contour": [
           {
            "colorbar": {
             "outlinewidth": 0,
             "ticks": ""
            },
            "colorscale": [
             [
              0,
              "#0d0887"
             ],
             [
              0.1111111111111111,
              "#46039f"
             ],
             [
              0.2222222222222222,
              "#7201a8"
             ],
             [
              0.3333333333333333,
              "#9c179e"
             ],
             [
              0.4444444444444444,
              "#bd3786"
             ],
             [
              0.5555555555555556,
              "#d8576b"
             ],
             [
              0.6666666666666666,
              "#ed7953"
             ],
             [
              0.7777777777777778,
              "#fb9f3a"
             ],
             [
              0.8888888888888888,
              "#fdca26"
             ],
             [
              1,
              "#f0f921"
             ]
            ],
            "type": "contour"
           }
          ],
          "contourcarpet": [
           {
            "colorbar": {
             "outlinewidth": 0,
             "ticks": ""
            },
            "type": "contourcarpet"
           }
          ],
          "heatmap": [
           {
            "colorbar": {
             "outlinewidth": 0,
             "ticks": ""
            },
            "colorscale": [
             [
              0,
              "#0d0887"
             ],
             [
              0.1111111111111111,
              "#46039f"
             ],
             [
              0.2222222222222222,
              "#7201a8"
             ],
             [
              0.3333333333333333,
              "#9c179e"
             ],
             [
              0.4444444444444444,
              "#bd3786"
             ],
             [
              0.5555555555555556,
              "#d8576b"
             ],
             [
              0.6666666666666666,
              "#ed7953"
             ],
             [
              0.7777777777777778,
              "#fb9f3a"
             ],
             [
              0.8888888888888888,
              "#fdca26"
             ],
             [
              1,
              "#f0f921"
             ]
            ],
            "type": "heatmap"
           }
          ],
          "heatmapgl": [
           {
            "colorbar": {
             "outlinewidth": 0,
             "ticks": ""
            },
            "colorscale": [
             [
              0,
              "#0d0887"
             ],
             [
              0.1111111111111111,
              "#46039f"
             ],
             [
              0.2222222222222222,
              "#7201a8"
             ],
             [
              0.3333333333333333,
              "#9c179e"
             ],
             [
              0.4444444444444444,
              "#bd3786"
             ],
             [
              0.5555555555555556,
              "#d8576b"
             ],
             [
              0.6666666666666666,
              "#ed7953"
             ],
             [
              0.7777777777777778,
              "#fb9f3a"
             ],
             [
              0.8888888888888888,
              "#fdca26"
             ],
             [
              1,
              "#f0f921"
             ]
            ],
            "type": "heatmapgl"
           }
          ],
          "histogram": [
           {
            "marker": {
             "pattern": {
              "fillmode": "overlay",
              "size": 10,
              "solidity": 0.2
             }
            },
            "type": "histogram"
           }
          ],
          "histogram2d": [
           {
            "colorbar": {
             "outlinewidth": 0,
             "ticks": ""
            },
            "colorscale": [
             [
              0,
              "#0d0887"
             ],
             [
              0.1111111111111111,
              "#46039f"
             ],
             [
              0.2222222222222222,
              "#7201a8"
             ],
             [
              0.3333333333333333,
              "#9c179e"
             ],
             [
              0.4444444444444444,
              "#bd3786"
             ],
             [
              0.5555555555555556,
              "#d8576b"
             ],
             [
              0.6666666666666666,
              "#ed7953"
             ],
             [
              0.7777777777777778,
              "#fb9f3a"
             ],
             [
              0.8888888888888888,
              "#fdca26"
             ],
             [
              1,
              "#f0f921"
             ]
            ],
            "type": "histogram2d"
           }
          ],
          "histogram2dcontour": [
           {
            "colorbar": {
             "outlinewidth": 0,
             "ticks": ""
            },
            "colorscale": [
             [
              0,
              "#0d0887"
             ],
             [
              0.1111111111111111,
              "#46039f"
             ],
             [
              0.2222222222222222,
              "#7201a8"
             ],
             [
              0.3333333333333333,
              "#9c179e"
             ],
             [
              0.4444444444444444,
              "#bd3786"
             ],
             [
              0.5555555555555556,
              "#d8576b"
             ],
             [
              0.6666666666666666,
              "#ed7953"
             ],
             [
              0.7777777777777778,
              "#fb9f3a"
             ],
             [
              0.8888888888888888,
              "#fdca26"
             ],
             [
              1,
              "#f0f921"
             ]
            ],
            "type": "histogram2dcontour"
           }
          ],
          "mesh3d": [
           {
            "colorbar": {
             "outlinewidth": 0,
             "ticks": ""
            },
            "type": "mesh3d"
           }
          ],
          "parcoords": [
           {
            "line": {
             "colorbar": {
              "outlinewidth": 0,
              "ticks": ""
             }
            },
            "type": "parcoords"
           }
          ],
          "pie": [
           {
            "automargin": true,
            "type": "pie"
           }
          ],
          "scatter": [
           {
            "fillpattern": {
             "fillmode": "overlay",
             "size": 10,
             "solidity": 0.2
            },
            "type": "scatter"
           }
          ],
          "scatter3d": [
           {
            "line": {
             "colorbar": {
              "outlinewidth": 0,
              "ticks": ""
             }
            },
            "marker": {
             "colorbar": {
              "outlinewidth": 0,
              "ticks": ""
             }
            },
            "type": "scatter3d"
           }
          ],
          "scattercarpet": [
           {
            "marker": {
             "colorbar": {
              "outlinewidth": 0,
              "ticks": ""
             }
            },
            "type": "scattercarpet"
           }
          ],
          "scattergeo": [
           {
            "marker": {
             "colorbar": {
              "outlinewidth": 0,
              "ticks": ""
             }
            },
            "type": "scattergeo"
           }
          ],
          "scattergl": [
           {
            "marker": {
             "colorbar": {
              "outlinewidth": 0,
              "ticks": ""
             }
            },
            "type": "scattergl"
           }
          ],
          "scattermapbox": [
           {
            "marker": {
             "colorbar": {
              "outlinewidth": 0,
              "ticks": ""
             }
            },
            "type": "scattermapbox"
           }
          ],
          "scatterpolar": [
           {
            "marker": {
             "colorbar": {
              "outlinewidth": 0,
              "ticks": ""
             }
            },
            "type": "scatterpolar"
           }
          ],
          "scatterpolargl": [
           {
            "marker": {
             "colorbar": {
              "outlinewidth": 0,
              "ticks": ""
             }
            },
            "type": "scatterpolargl"
           }
          ],
          "scatterternary": [
           {
            "marker": {
             "colorbar": {
              "outlinewidth": 0,
              "ticks": ""
             }
            },
            "type": "scatterternary"
           }
          ],
          "surface": [
           {
            "colorbar": {
             "outlinewidth": 0,
             "ticks": ""
            },
            "colorscale": [
             [
              0,
              "#0d0887"
             ],
             [
              0.1111111111111111,
              "#46039f"
             ],
             [
              0.2222222222222222,
              "#7201a8"
             ],
             [
              0.3333333333333333,
              "#9c179e"
             ],
             [
              0.4444444444444444,
              "#bd3786"
             ],
             [
              0.5555555555555556,
              "#d8576b"
             ],
             [
              0.6666666666666666,
              "#ed7953"
             ],
             [
              0.7777777777777778,
              "#fb9f3a"
             ],
             [
              0.8888888888888888,
              "#fdca26"
             ],
             [
              1,
              "#f0f921"
             ]
            ],
            "type": "surface"
           }
          ],
          "table": [
           {
            "cells": {
             "fill": {
              "color": "#EBF0F8"
             },
             "line": {
              "color": "white"
             }
            },
            "header": {
             "fill": {
              "color": "#C8D4E3"
             },
             "line": {
              "color": "white"
             }
            },
            "type": "table"
           }
          ]
         },
         "layout": {
          "annotationdefaults": {
           "arrowcolor": "#2a3f5f",
           "arrowhead": 0,
           "arrowwidth": 1
          },
          "autotypenumbers": "strict",
          "coloraxis": {
           "colorbar": {
            "outlinewidth": 0,
            "ticks": ""
           }
          },
          "colorscale": {
           "diverging": [
            [
             0,
             "#8e0152"
            ],
            [
             0.1,
             "#c51b7d"
            ],
            [
             0.2,
             "#de77ae"
            ],
            [
             0.3,
             "#f1b6da"
            ],
            [
             0.4,
             "#fde0ef"
            ],
            [
             0.5,
             "#f7f7f7"
            ],
            [
             0.6,
             "#e6f5d0"
            ],
            [
             0.7,
             "#b8e186"
            ],
            [
             0.8,
             "#7fbc41"
            ],
            [
             0.9,
             "#4d9221"
            ],
            [
             1,
             "#276419"
            ]
           ],
           "sequential": [
            [
             0,
             "#0d0887"
            ],
            [
             0.1111111111111111,
             "#46039f"
            ],
            [
             0.2222222222222222,
             "#7201a8"
            ],
            [
             0.3333333333333333,
             "#9c179e"
            ],
            [
             0.4444444444444444,
             "#bd3786"
            ],
            [
             0.5555555555555556,
             "#d8576b"
            ],
            [
             0.6666666666666666,
             "#ed7953"
            ],
            [
             0.7777777777777778,
             "#fb9f3a"
            ],
            [
             0.8888888888888888,
             "#fdca26"
            ],
            [
             1,
             "#f0f921"
            ]
           ],
           "sequentialminus": [
            [
             0,
             "#0d0887"
            ],
            [
             0.1111111111111111,
             "#46039f"
            ],
            [
             0.2222222222222222,
             "#7201a8"
            ],
            [
             0.3333333333333333,
             "#9c179e"
            ],
            [
             0.4444444444444444,
             "#bd3786"
            ],
            [
             0.5555555555555556,
             "#d8576b"
            ],
            [
             0.6666666666666666,
             "#ed7953"
            ],
            [
             0.7777777777777778,
             "#fb9f3a"
            ],
            [
             0.8888888888888888,
             "#fdca26"
            ],
            [
             1,
             "#f0f921"
            ]
           ]
          },
          "colorway": [
           "#636efa",
           "#EF553B",
           "#00cc96",
           "#ab63fa",
           "#FFA15A",
           "#19d3f3",
           "#FF6692",
           "#B6E880",
           "#FF97FF",
           "#FECB52"
          ],
          "font": {
           "color": "#2a3f5f"
          },
          "geo": {
           "bgcolor": "white",
           "lakecolor": "white",
           "landcolor": "#E5ECF6",
           "showlakes": true,
           "showland": true,
           "subunitcolor": "white"
          },
          "hoverlabel": {
           "align": "left"
          },
          "hovermode": "closest",
          "mapbox": {
           "style": "light"
          },
          "paper_bgcolor": "white",
          "plot_bgcolor": "#E5ECF6",
          "polar": {
           "angularaxis": {
            "gridcolor": "white",
            "linecolor": "white",
            "ticks": ""
           },
           "bgcolor": "#E5ECF6",
           "radialaxis": {
            "gridcolor": "white",
            "linecolor": "white",
            "ticks": ""
           }
          },
          "scene": {
           "xaxis": {
            "backgroundcolor": "#E5ECF6",
            "gridcolor": "white",
            "gridwidth": 2,
            "linecolor": "white",
            "showbackground": true,
            "ticks": "",
            "zerolinecolor": "white"
           },
           "yaxis": {
            "backgroundcolor": "#E5ECF6",
            "gridcolor": "white",
            "gridwidth": 2,
            "linecolor": "white",
            "showbackground": true,
            "ticks": "",
            "zerolinecolor": "white"
           },
           "zaxis": {
            "backgroundcolor": "#E5ECF6",
            "gridcolor": "white",
            "gridwidth": 2,
            "linecolor": "white",
            "showbackground": true,
            "ticks": "",
            "zerolinecolor": "white"
           }
          },
          "shapedefaults": {
           "line": {
            "color": "#2a3f5f"
           }
          },
          "ternary": {
           "aaxis": {
            "gridcolor": "white",
            "linecolor": "white",
            "ticks": ""
           },
           "baxis": {
            "gridcolor": "white",
            "linecolor": "white",
            "ticks": ""
           },
           "bgcolor": "#E5ECF6",
           "caxis": {
            "gridcolor": "white",
            "linecolor": "white",
            "ticks": ""
           }
          },
          "title": {
           "x": 0.05
          },
          "xaxis": {
           "automargin": true,
           "gridcolor": "white",
           "linecolor": "white",
           "ticks": "",
           "title": {
            "standoff": 15
           },
           "zerolinecolor": "white",
           "zerolinewidth": 2
          },
          "yaxis": {
           "automargin": true,
           "gridcolor": "white",
           "linecolor": "white",
           "ticks": "",
           "title": {
            "standoff": 15
           },
           "zerolinecolor": "white",
           "zerolinewidth": 2
          }
         }
        },
        "title": {
         "text": "Countries with English speakers"
        },
        "width": 1000
       }
      }
     },
     "metadata": {},
     "output_type": "display_data"
    }
   ],
   "source": [
    "main()"
   ]
  },
  {
   "cell_type": "code",
   "execution_count": null,
   "metadata": {},
   "outputs": [],
   "source": []
  }
 ],
 "metadata": {
  "kernelspec": {
   "display_name": "base",
   "language": "python",
   "name": "python3"
  },
  "language_info": {
   "codemirror_mode": {
    "name": "ipython",
    "version": 3
   },
   "file_extension": ".py",
   "mimetype": "text/x-python",
   "name": "python",
   "nbconvert_exporter": "python",
   "pygments_lexer": "ipython3",
   "version": "3.8.8"
  }
 },
 "nbformat": 4,
 "nbformat_minor": 2
}
